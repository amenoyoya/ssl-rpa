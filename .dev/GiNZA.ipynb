{
 "cells": [
  {
   "cell_type": "code",
   "execution_count": 2,
   "metadata": {},
   "outputs": [
    {
     "name": "stdout",
     "output_type": "stream",
     "text": [
      "0 今年 今年 NOUN 名詞-普通名詞-副詞可能 nmod 2\n",
      "1 の の ADP 助詞-格助詞 case 0\n",
      "2 干支 干支 NOUN 名詞-普通名詞-一般 nsubj 4\n",
      "3 は は ADP 助詞-係助詞 case 2\n",
      "4 庚子 庚子 NOUN 名詞-普通名詞-一般 ROOT 4\n",
      "5 です です AUX 助動詞 cop 4\n",
      "6 。 。 PUNCT 補助記号-句点 punct 4\n",
      "7 東京 東京 PROPN 名詞-固有名詞-地名-一般 compound 9\n",
      "8 オリンピック オリンピック NOUN 名詞-普通名詞-一般 compound 9\n",
      "9 たのしみ 楽しみ NOUN 名詞-普通名詞-一般 ROOT 9\n",
      "10 だ だ AUX 助動詞 cop 9\n",
      "11 なあ な PART 助詞-終助詞 aux 9\n",
      "12 。 。 PUNCT 補助記号-句点 punct 9\n"
     ]
    }
   ],
   "source": [
    "import spacy\n",
    "\n",
    "# GiNZA日本語UDモデル を Spacy でロード\n",
    "nlp = spacy.load('ja_ginza')\n",
    "\n",
    "# 解析対象文字列を渡す\n",
    "doc = nlp('今年の干支は庚子です。東京オリンピックたのしみだなあ。')\n",
    "\n",
    "# 形態素解析結果\n",
    "for sent in doc.sents:\n",
    "    for token in sent:\n",
    "        print(token.i, token.orth_, token.lemma_, token.pos_, \n",
    "              token.tag_, token.dep_, token.head.i)"
   ]
  },
  {
   "cell_type": "code",
   "execution_count": 2,
   "metadata": {},
   "outputs": [
    {
     "name": "stderr",
     "output_type": "stream",
     "text": [
      "/home/mint/anaconda3/envs/py36/lib/python3.6/runpy.py:193: UserWarning: [W011] It looks like you're calling displacy.serve from within a Jupyter notebook or a similar environment. This likely means you're already running a local web server, so there's no need to make displaCy start another one. Instead, you should be able to replace displacy.serve with displacy.render to show the visualization.\n",
      "  \"__main__\", mod_spec)\n"
     ]
    },
    {
     "data": {
      "text/html": [
       "<!DOCTYPE html>\n",
       "<html lang=\"ja\">\n",
       "    <head>\n",
       "        <title>displaCy</title>\n",
       "    </head>\n",
       "\n",
       "    <body style=\"font-size: 16px; font-family: -apple-system, BlinkMacSystemFont, 'Segoe UI', Helvetica, Arial, sans-serif, 'Apple Color Emoji', 'Segoe UI Emoji', 'Segoe UI Symbol'; padding: 4rem 2rem; direction: ltr\">\n",
       "<figure style=\"margin-bottom: 6rem\">\n",
       "<svg xmlns=\"http://www.w3.org/2000/svg\" xmlns:xlink=\"http://www.w3.org/1999/xlink\" xml:lang=\"ja\" id=\"a86e178f2af141d5af35affab6f36c14-0\" class=\"displacy\" width=\"1700\" height=\"287.0\" direction=\"ltr\" style=\"max-width: none; height: 287.0px; color: #000000; background: #ffffff; font-family: Arial; direction: ltr\">\n",
       "<text class=\"displacy-token\" fill=\"currentColor\" text-anchor=\"middle\" y=\"197.0\">\n",
       "    <tspan class=\"displacy-word\" fill=\"currentColor\" x=\"50\">今年</tspan>\n",
       "    <tspan class=\"displacy-tag\" dy=\"2em\" fill=\"currentColor\" x=\"50\">NOUN</tspan>\n",
       "</text>\n",
       "\n",
       "<text class=\"displacy-token\" fill=\"currentColor\" text-anchor=\"middle\" y=\"197.0\">\n",
       "    <tspan class=\"displacy-word\" fill=\"currentColor\" x=\"200\">の</tspan>\n",
       "    <tspan class=\"displacy-tag\" dy=\"2em\" fill=\"currentColor\" x=\"200\">ADP</tspan>\n",
       "</text>\n",
       "\n",
       "<text class=\"displacy-token\" fill=\"currentColor\" text-anchor=\"middle\" y=\"197.0\">\n",
       "    <tspan class=\"displacy-word\" fill=\"currentColor\" x=\"350\">干支</tspan>\n",
       "    <tspan class=\"displacy-tag\" dy=\"2em\" fill=\"currentColor\" x=\"350\">NOUN</tspan>\n",
       "</text>\n",
       "\n",
       "<text class=\"displacy-token\" fill=\"currentColor\" text-anchor=\"middle\" y=\"197.0\">\n",
       "    <tspan class=\"displacy-word\" fill=\"currentColor\" x=\"500\">は</tspan>\n",
       "    <tspan class=\"displacy-tag\" dy=\"2em\" fill=\"currentColor\" x=\"500\">ADP</tspan>\n",
       "</text>\n",
       "\n",
       "<text class=\"displacy-token\" fill=\"currentColor\" text-anchor=\"middle\" y=\"197.0\">\n",
       "    <tspan class=\"displacy-word\" fill=\"currentColor\" x=\"650\">庚子</tspan>\n",
       "    <tspan class=\"displacy-tag\" dy=\"2em\" fill=\"currentColor\" x=\"650\">NOUN</tspan>\n",
       "</text>\n",
       "\n",
       "<text class=\"displacy-token\" fill=\"currentColor\" text-anchor=\"middle\" y=\"197.0\">\n",
       "    <tspan class=\"displacy-word\" fill=\"currentColor\" x=\"800\">です。</tspan>\n",
       "    <tspan class=\"displacy-tag\" dy=\"2em\" fill=\"currentColor\" x=\"800\">AUX</tspan>\n",
       "</text>\n",
       "\n",
       "<text class=\"displacy-token\" fill=\"currentColor\" text-anchor=\"middle\" y=\"197.0\">\n",
       "    <tspan class=\"displacy-word\" fill=\"currentColor\" x=\"950\">東京</tspan>\n",
       "    <tspan class=\"displacy-tag\" dy=\"2em\" fill=\"currentColor\" x=\"950\">PROPN</tspan>\n",
       "</text>\n",
       "\n",
       "<text class=\"displacy-token\" fill=\"currentColor\" text-anchor=\"middle\" y=\"197.0\">\n",
       "    <tspan class=\"displacy-word\" fill=\"currentColor\" x=\"1100\">オリンピック</tspan>\n",
       "    <tspan class=\"displacy-tag\" dy=\"2em\" fill=\"currentColor\" x=\"1100\">NOUN</tspan>\n",
       "</text>\n",
       "\n",
       "<text class=\"displacy-token\" fill=\"currentColor\" text-anchor=\"middle\" y=\"197.0\">\n",
       "    <tspan class=\"displacy-word\" fill=\"currentColor\" x=\"1250\">たのしみ</tspan>\n",
       "    <tspan class=\"displacy-tag\" dy=\"2em\" fill=\"currentColor\" x=\"1250\">NOUN</tspan>\n",
       "</text>\n",
       "\n",
       "<text class=\"displacy-token\" fill=\"currentColor\" text-anchor=\"middle\" y=\"197.0\">\n",
       "    <tspan class=\"displacy-word\" fill=\"currentColor\" x=\"1400\">だ</tspan>\n",
       "    <tspan class=\"displacy-tag\" dy=\"2em\" fill=\"currentColor\" x=\"1400\">AUX</tspan>\n",
       "</text>\n",
       "\n",
       "<text class=\"displacy-token\" fill=\"currentColor\" text-anchor=\"middle\" y=\"197.0\">\n",
       "    <tspan class=\"displacy-word\" fill=\"currentColor\" x=\"1550\">なあ。</tspan>\n",
       "    <tspan class=\"displacy-tag\" dy=\"2em\" fill=\"currentColor\" x=\"1550\">PART</tspan>\n",
       "</text>\n",
       "\n",
       "<g class=\"displacy-arrow\">\n",
       "    <path class=\"displacy-arc\" id=\"arrow-a86e178f2af141d5af35affab6f36c14-0-0\" stroke-width=\"2px\" d=\"M62,152.0 62,102.0 350.0,102.0 350.0,152.0\" fill=\"none\" stroke=\"currentColor\"/>\n",
       "    <text dy=\"1.25em\" style=\"font-size: 0.8em; letter-spacing: 1px\">\n",
       "        <textPath xlink:href=\"#arrow-a86e178f2af141d5af35affab6f36c14-0-0\" class=\"displacy-label\" startOffset=\"50%\" side=\"left\" fill=\"currentColor\" text-anchor=\"middle\">nmod</textPath>\n",
       "    </text>\n",
       "    <path class=\"displacy-arrowhead\" d=\"M62,154.0 L58,146.0 66,146.0\" fill=\"currentColor\"/>\n",
       "</g>\n",
       "\n",
       "<g class=\"displacy-arrow\">\n",
       "    <path class=\"displacy-arc\" id=\"arrow-a86e178f2af141d5af35affab6f36c14-0-1\" stroke-width=\"2px\" d=\"M62,152.0 62,127.0 197.0,127.0 197.0,152.0\" fill=\"none\" stroke=\"currentColor\"/>\n",
       "    <text dy=\"1.25em\" style=\"font-size: 0.8em; letter-spacing: 1px\">\n",
       "        <textPath xlink:href=\"#arrow-a86e178f2af141d5af35affab6f36c14-0-1\" class=\"displacy-label\" startOffset=\"50%\" side=\"left\" fill=\"currentColor\" text-anchor=\"middle\">case</textPath>\n",
       "    </text>\n",
       "    <path class=\"displacy-arrowhead\" d=\"M197.0,154.0 L201.0,146.0 193.0,146.0\" fill=\"currentColor\"/>\n",
       "</g>\n",
       "\n",
       "<g class=\"displacy-arrow\">\n",
       "    <path class=\"displacy-arc\" id=\"arrow-a86e178f2af141d5af35affab6f36c14-0-2\" stroke-width=\"2px\" d=\"M362,152.0 362,102.0 650.0,102.0 650.0,152.0\" fill=\"none\" stroke=\"currentColor\"/>\n",
       "    <text dy=\"1.25em\" style=\"font-size: 0.8em; letter-spacing: 1px\">\n",
       "        <textPath xlink:href=\"#arrow-a86e178f2af141d5af35affab6f36c14-0-2\" class=\"displacy-label\" startOffset=\"50%\" side=\"left\" fill=\"currentColor\" text-anchor=\"middle\">nsubj</textPath>\n",
       "    </text>\n",
       "    <path class=\"displacy-arrowhead\" d=\"M362,154.0 L358,146.0 366,146.0\" fill=\"currentColor\"/>\n",
       "</g>\n",
       "\n",
       "<g class=\"displacy-arrow\">\n",
       "    <path class=\"displacy-arc\" id=\"arrow-a86e178f2af141d5af35affab6f36c14-0-3\" stroke-width=\"2px\" d=\"M362,152.0 362,127.0 497.0,127.0 497.0,152.0\" fill=\"none\" stroke=\"currentColor\"/>\n",
       "    <text dy=\"1.25em\" style=\"font-size: 0.8em; letter-spacing: 1px\">\n",
       "        <textPath xlink:href=\"#arrow-a86e178f2af141d5af35affab6f36c14-0-3\" class=\"displacy-label\" startOffset=\"50%\" side=\"left\" fill=\"currentColor\" text-anchor=\"middle\">case</textPath>\n",
       "    </text>\n",
       "    <path class=\"displacy-arrowhead\" d=\"M497.0,154.0 L501.0,146.0 493.0,146.0\" fill=\"currentColor\"/>\n",
       "</g>\n",
       "\n",
       "<g class=\"displacy-arrow\">\n",
       "    <path class=\"displacy-arc\" id=\"arrow-a86e178f2af141d5af35affab6f36c14-0-4\" stroke-width=\"2px\" d=\"M662,152.0 662,127.0 797.0,127.0 797.0,152.0\" fill=\"none\" stroke=\"currentColor\"/>\n",
       "    <text dy=\"1.25em\" style=\"font-size: 0.8em; letter-spacing: 1px\">\n",
       "        <textPath xlink:href=\"#arrow-a86e178f2af141d5af35affab6f36c14-0-4\" class=\"displacy-label\" startOffset=\"50%\" side=\"left\" fill=\"currentColor\" text-anchor=\"middle\">cop</textPath>\n",
       "    </text>\n",
       "    <path class=\"displacy-arrowhead\" d=\"M797.0,154.0 L801.0,146.0 793.0,146.0\" fill=\"currentColor\"/>\n",
       "</g>\n",
       "\n",
       "<g class=\"displacy-arrow\">\n",
       "    <path class=\"displacy-arc\" id=\"arrow-a86e178f2af141d5af35affab6f36c14-0-5\" stroke-width=\"2px\" d=\"M962,152.0 962,102.0 1250.0,102.0 1250.0,152.0\" fill=\"none\" stroke=\"currentColor\"/>\n",
       "    <text dy=\"1.25em\" style=\"font-size: 0.8em; letter-spacing: 1px\">\n",
       "        <textPath xlink:href=\"#arrow-a86e178f2af141d5af35affab6f36c14-0-5\" class=\"displacy-label\" startOffset=\"50%\" side=\"left\" fill=\"currentColor\" text-anchor=\"middle\">compound</textPath>\n",
       "    </text>\n",
       "    <path class=\"displacy-arrowhead\" d=\"M962,154.0 L958,146.0 966,146.0\" fill=\"currentColor\"/>\n",
       "</g>\n",
       "\n",
       "<g class=\"displacy-arrow\">\n",
       "    <path class=\"displacy-arc\" id=\"arrow-a86e178f2af141d5af35affab6f36c14-0-6\" stroke-width=\"2px\" d=\"M1112,152.0 1112,127.0 1247.0,127.0 1247.0,152.0\" fill=\"none\" stroke=\"currentColor\"/>\n",
       "    <text dy=\"1.25em\" style=\"font-size: 0.8em; letter-spacing: 1px\">\n",
       "        <textPath xlink:href=\"#arrow-a86e178f2af141d5af35affab6f36c14-0-6\" class=\"displacy-label\" startOffset=\"50%\" side=\"left\" fill=\"currentColor\" text-anchor=\"middle\">compound</textPath>\n",
       "    </text>\n",
       "    <path class=\"displacy-arrowhead\" d=\"M1112,154.0 L1108,146.0 1116,146.0\" fill=\"currentColor\"/>\n",
       "</g>\n",
       "\n",
       "<g class=\"displacy-arrow\">\n",
       "    <path class=\"displacy-arc\" id=\"arrow-a86e178f2af141d5af35affab6f36c14-0-7\" stroke-width=\"2px\" d=\"M1262,152.0 1262,127.0 1397.0,127.0 1397.0,152.0\" fill=\"none\" stroke=\"currentColor\"/>\n",
       "    <text dy=\"1.25em\" style=\"font-size: 0.8em; letter-spacing: 1px\">\n",
       "        <textPath xlink:href=\"#arrow-a86e178f2af141d5af35affab6f36c14-0-7\" class=\"displacy-label\" startOffset=\"50%\" side=\"left\" fill=\"currentColor\" text-anchor=\"middle\">cop</textPath>\n",
       "    </text>\n",
       "    <path class=\"displacy-arrowhead\" d=\"M1397.0,154.0 L1401.0,146.0 1393.0,146.0\" fill=\"currentColor\"/>\n",
       "</g>\n",
       "\n",
       "<g class=\"displacy-arrow\">\n",
       "    <path class=\"displacy-arc\" id=\"arrow-a86e178f2af141d5af35affab6f36c14-0-8\" stroke-width=\"2px\" d=\"M1262,152.0 1262,102.0 1550.0,102.0 1550.0,152.0\" fill=\"none\" stroke=\"currentColor\"/>\n",
       "    <text dy=\"1.25em\" style=\"font-size: 0.8em; letter-spacing: 1px\">\n",
       "        <textPath xlink:href=\"#arrow-a86e178f2af141d5af35affab6f36c14-0-8\" class=\"displacy-label\" startOffset=\"50%\" side=\"left\" fill=\"currentColor\" text-anchor=\"middle\">aux</textPath>\n",
       "    </text>\n",
       "    <path class=\"displacy-arrowhead\" d=\"M1550.0,154.0 L1554.0,146.0 1546.0,146.0\" fill=\"currentColor\"/>\n",
       "</g>\n",
       "</svg>\n",
       "</figure>\n",
       "</body>\n",
       "</html>"
      ],
      "text/plain": [
       "<IPython.core.display.HTML object>"
      ]
     },
     "metadata": {},
     "output_type": "display_data"
    },
    {
     "name": "stdout",
     "output_type": "stream",
     "text": [
      "\n",
      "Using the 'dep' visualizer\n",
      "Serving on http://0.0.0.0:5000 ...\n",
      "\n"
     ]
    },
    {
     "name": "stderr",
     "output_type": "stream",
     "text": [
      "192.168.81.1 - - [06/Feb/2020 01:15:08] \"GET / HTTP/1.1\" 200 8680\n",
      "192.168.81.1 - - [06/Feb/2020 01:15:09] \"GET /favicon.ico HTTP/1.1\" 200 8680\n"
     ]
    },
    {
     "name": "stdout",
     "output_type": "stream",
     "text": [
      "Shutting down server on port 5000.\n"
     ]
    }
   ],
   "source": [
    "# 依存関係の可視化\n",
    "from spacy import displacy\n",
    "\n",
    "displacy.serve(doc, style='dep', options={'compact':True})\n",
    "## => Visualizer が localhost:5000 で稼働"
   ]
  },
  {
   "cell_type": "code",
   "execution_count": 3,
   "metadata": {},
   "outputs": [
    {
     "name": "stdout",
     "output_type": "stream",
     "text": [
      "試合\n",
      "[-1.7299166   1.3438352   0.51212436  0.8338855   0.42193085 -1.4436126\n",
      "  4.331309   -0.59857213  2.091658    3.1512427  -2.0446565  -0.41324708\n",
      " -1.6249566   2.0849636  -1.1432786   0.4402521  -0.2996736  -1.2537657\n",
      " -1.4408176  -3.61768     0.7704964   2.102502    2.0921223   0.04206143\n",
      " -1.8395482   0.18499917 -0.2579822  -1.4813038  -0.73962873  0.36772487\n",
      " -0.52210647  1.9044702   0.4267643  -0.80647945 -1.0729067  -0.11970597\n",
      " -0.6600776  -0.02893271  2.1134949  -0.9696921   0.06669673  0.17631757\n",
      "  1.333448   -0.19496314 -2.5899901  -0.08864212 -0.69199586  0.44197303\n",
      " -1.7922851  -0.6862237   0.3803087   0.53696775  1.1550635   0.79316735\n",
      " -0.45592362  1.8070105  -0.5869399  -1.923917   -1.1303633   0.5251339\n",
      " -1.8638126  -0.8316108   1.543806   -0.6436903   2.7160945   1.0952429\n",
      "  0.01095889 -0.7106281   0.33451897 -0.3829015  -2.5569937   2.485877\n",
      "  2.0016584  -0.3864923   1.1195239  -0.09876658 -1.4376799   1.3623239\n",
      "  0.82006216  0.6577988  -0.58017254  1.5773239  -0.8229859  -1.8199314\n",
      " -0.9141591   1.2801356   1.006551   -0.59739584 -1.7120061   0.12186961\n",
      "  2.480404    1.0830965   1.1604524   0.4160739   0.81988466  0.5288985\n",
      "  1.1213776   1.1430703  -1.231743   -2.3723211 ]\n",
      "(100,)\n"
     ]
    }
   ],
   "source": [
    "# 単語のベクトル化\n",
    "doc = nlp('あきらめたらそこで試合終了だ')\n",
    "token = doc[4]\n",
    "\n",
    "print(token)\n",
    "print(token.vector)\n",
    "print(token.vector.shape)"
   ]
  },
  {
   "cell_type": "code",
   "execution_count": 4,
   "metadata": {},
   "outputs": [
    {
     "name": "stdout",
     "output_type": "stream",
     "text": [
      "0.8016603151410209\n",
      "0.5304326882294994\n"
     ]
    }
   ],
   "source": [
    "# 単語間の類似度\n",
    "word1 = nlp('おむすび')\n",
    "word2 = nlp('おにぎり')\n",
    "word3 = nlp('カレー')\n",
    "\n",
    "print(word1.similarity(word2)) # おむすび と おにぎり の類似度は高い\n",
    "print(word1.similarity(word3)) # おむすび と カレー の類似度は低い"
   ]
  },
  {
   "cell_type": "code",
   "execution_count": 5,
   "metadata": {},
   "outputs": [
    {
     "data": {
      "image/png": "[encoded data removed]",
      "text/plain": [
       "<Figure size 432x288 with 1 Axes>"
      ]
     },
     "metadata": {
      "needs_background": "light"
     },
     "output_type": "display_data"
    }
   ],
   "source": [
    "'''\n",
    "単語をベクトル空間に落とし込む\n",
    "'''\n",
    "import numpy as np\n",
    "import matplotlib.pyplot as plt\n",
    "from sklearn.decomposition import PCA\n",
    "\n",
    "#text2vector\n",
    "vec1 = nlp('あけましておめでとうございます').vector\n",
    "vec2 = nlp('昨日キャベツを買った').vector\n",
    "vec3 = nlp('映画を観に行こう').vector\n",
    "vec4 = nlp('カレーが食べたい').vector\n",
    "vec5 = nlp('買い物しようと町まで出かけた').vector\n",
    "vec6 = nlp('昨日食べたチョコレート').vector\n",
    "\n",
    "#pca\n",
    "vectors = np.vstack((vec1, vec2, vec3, vec4, vec5, vec6))\n",
    "pca = PCA(n_components=2).fit(vectors)\n",
    "trans = pca.fit_transform(vectors)\n",
    "pc_ratio = pca.explained_variance_ratio_\n",
    "\n",
    "#plot\n",
    "plt.figure()\n",
    "plt.scatter(trans[:,0], trans[:,1])\n",
    "\n",
    "i = 0\n",
    "for txt in ['text1','text2','text3','text4','text5','text6']:\n",
    "    plt.text(trans[i,0]-0.2, trans[i,1]+0.1, txt)\n",
    "    i += 1\n",
    "\n",
    "plt.hlines(0, min(trans[:,0]), max(trans[:,0]), linestyle='dashed', linewidth=1)\n",
    "plt.vlines(0, min(trans[:,1]), max(trans[:,1]), linestyle='dashed', linewidth=1)\n",
    "plt.xlabel('PC1 ('+str(round(pc_ratio[0]*100,2))+'%)')\n",
    "plt.ylabel('PC2 ('+str(round(pc_ratio[1]*100,2))+'%)')\n",
    "plt.tight_layout()\n",
    "plt.show()"
   ]
  },
  {
   "cell_type": "code",
   "execution_count": null,
   "metadata": {},
   "outputs": [],
   "source": []
  }
 ],
 "metadata": {
  "kernelspec": {
   "display_name": "Python 3",
   "language": "python",
   "name": "python3"
  },
  "language_info": {
   "codemirror_mode": {
    "name": "ipython",
    "version": 3
   },
   "file_extension": ".py",
   "mimetype": "text/x-python",
   "name": "python",
   "nbconvert_exporter": "python",
   "pygments_lexer": "ipython3",
   "version": "3.6.10"
  }
 },
 "nbformat": 4,
 "nbformat_minor": 2
}
