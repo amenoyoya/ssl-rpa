{
 "cells": [
  {
   "cell_type": "code",
   "execution_count": 3,
   "metadata": {},
   "outputs": [
    {
     "data": {
      "text/plain": [
       "\"C:\\\\Users\\\\user\\\\AppData\\\\Roaming\""
      ]
     },
     "execution_count": 3,
     "metadata": {},
     "output_type": "execute_result"
    }
   ],
   "source": [
    "# 環境変数取得\n",
    "ENV[\"APPDATA\"]"
   ]
  },
  {
   "cell_type": "code",
   "execution_count": 2,
   "metadata": {},
   "outputs": [],
   "source": [
    "\"\"\"\n",
    "Selenium WebDriver 動作確認\n",
    "\"\"\"\n",
    "\n",
    "using PyCall\n",
    "\n",
    "# python/selenium パッケージ import\n",
    "const webdriver = pyimport(\"selenium.webdriver\")\n",
    "const WebDriverWait = pyimport(\"selenium.webdriver.support.ui\").WebDriverWait\n",
    "const EC = pyimport(\"selenium.webdriver.support.expected_conditions\")\n",
    "# python/chromedriver_binary パッケージ import\n",
    "pyimport(\"chromedriver_binary\")\n",
    "\n",
    "# ChromeWebDriverで Google WEBサイト取得\n",
    "driver = webdriver.Chrome()\n",
    "driver.get(\"https://www.google.co.jp\")\n",
    "# ロード待ち\n",
    "WebDriverWait(driver, 10).until(EC.presence_of_all_elements_located)\n",
    "# 検索窓に \"ChromeDriver\" を入力し submit\n",
    "search_box = driver.find_element_by_name(\"q\")\n",
    "search_box.send_keys(\"ChromeDriver\")\n",
    "search_box.submit()\n",
    "# ロード待ち\n",
    "WebDriverWait(driver, 10).until(EC.presence_of_all_elements_located)\n",
    "# スクリーンショット保存\n",
    "driver.save_screenshot(\"screenshot.png\")\n",
    "# ChromeWebDriver終了\n",
    "driver.quit()"
   ]
  },
  {
   "cell_type": "code",
   "execution_count": 5,
   "metadata": {},
   "outputs": [
    {
     "name": "stdout",
     "output_type": "stream",
     "text": [
      "https://secure.sakura.ad.jp/rscontrol/main/\n"
     ]
    }
   ],
   "source": [
    "# さくらレンタルサーバ｜ログイン\n",
    "driver = webdriver.Chrome()\n",
    "driver.get(\"https://secure.sakura.ad.jp/rscontrol\")\n",
    "WebDriverWait(driver, 10).until(EC.presence_of_all_elements_located)\n",
    "driver.find_element_by_xpath(\"//input[@name=\\\"domain\\\"]\").send_keys(ENV[\"SAKURA_USER\"])\n",
    "driver.find_element_by_xpath(\"//input[@name=\\\"password\\\"]\").send_keys(ENV[\"SAKURA_PASSWD\"])\n",
    "driver.find_element_by_xpath(\"//input[@class=\\\"image\\\"]\").submit()\n",
    "WebDriverWait(driver, 10).until(EC.presence_of_all_elements_located)\n",
    "println(driver.current_url)\n",
    "driver.quit()"
   ]
  },
  {
   "cell_type": "code",
   "execution_count": 19,
   "metadata": {},
   "outputs": [
    {
     "data": {
      "text/plain": [
       "false"
      ]
     },
     "execution_count": 19,
     "metadata": {},
     "output_type": "execute_result"
    }
   ],
   "source": [
    "isnothing(match(r\"^https://secure\\.sakura\\.ad\\.jp/rscontrol/\", \"https://secure.sakura.ad.jp/rscontrol/main/\"))"
   ]
  },
  {
   "cell_type": "code",
   "execution_count": 1,
   "metadata": {},
   "outputs": [
    {
     "data": {
      "text/plain": [
       "sakura_apply_lets_encrypt (generic function with 1 method)"
      ]
     },
     "execution_count": 1,
     "metadata": {},
     "output_type": "execute_result"
    }
   ],
   "source": [
    "using PyCall\n",
    "\n",
    "# python/selenium パッケージ import\n",
    "const webdriver = pyimport(\"selenium.webdriver\")\n",
    "const WebDriverWait = pyimport(\"selenium.webdriver.support.ui\").WebDriverWait\n",
    "const EC = pyimport(\"selenium.webdriver.support.expected_conditions\")\n",
    "# python/chromedriver_binary パッケージ import\n",
    "pyimport(\"chromedriver_binary\")\n",
    "\n",
    "# Selenium制御ブロック\n",
    "selenium(callback) = begin\n",
    "    driver = webdriver.Chrome()\n",
    "    callback(driver)\n",
    "    driver.quit()\n",
    "end\n",
    "\n",
    "# さくらレンタルサーバーログイン\n",
    "sakura_login(driver, login_user, login_passwd) = begin\n",
    "    driver.get(\"https://secure.sakura.ad.jp/rscontrol\")\n",
    "    WebDriverWait(driver, 10).until(EC.presence_of_all_elements_located)\n",
    "    driver.find_element_by_xpath(\"//input[@name=\\\"domain\\\"]\").send_keys(login_user)\n",
    "    driver.find_element_by_xpath(\"//input[@name=\\\"password\\\"]\").send_keys(login_passwd)\n",
    "    driver.find_element_by_xpath(\"//input[@class=\\\"image\\\"]\").submit()\n",
    "    WebDriverWait(driver, 10).until(EC.presence_of_all_elements_located)\n",
    "    return driver.current_url\n",
    "end\n",
    "\n",
    "# 無料SSL証明書（Let's Encrypt）申し込み\n",
    "sakura_apply_lets_encrypt(driver, panel_url, domain) = begin\n",
    "    driver.get(\"$(panel_url)freessl?SNIDomain=$(domain)\")\n",
    "    WebDriverWait(driver, 10).until(EC.presence_of_all_elements_located)\n",
    "    buttons = driver.find_elements_by_xpath(\"//button[@type=\\\"submit\\\"]\")\n",
    "    length(buttons) === 0 && return false\n",
    "    buttons[0].submit()\n",
    "    return true\n",
    "end"
   ]
  },
  {
   "cell_type": "code",
   "execution_count": 2,
   "metadata": {},
   "outputs": [
    {
     "name": "stdout",
     "output_type": "stream",
     "text": [
      "stdin> exit\n"
     ]
    }
   ],
   "source": [
    "# ログイン確認\n",
    "selenium() do driver\n",
    "    panel_url = sakura_login(driver, ENV[\"SAKURA_USER\"], ENV[\"SAKURA_PASSWD\"])\n",
    "    isnothing(match(r\"^https://secure\\.sakura\\.ad\\.jp/rscontrol/\", panel_url)) && return false\n",
    "    # 無限ループで待機\n",
    "    while true\n",
    "        \"exit\" === readline() && break\n",
    "    end\n",
    "end"
   ]
  },
  {
   "cell_type": "code",
   "execution_count": 4,
   "metadata": {},
   "outputs": [
    {
     "name": "stderr",
     "output_type": "stream",
     "text": [
      "WARNING: redefining constant Select\n"
     ]
    },
    {
     "ename": "KeyError",
     "evalue": "KeyError: key \"find_by_xpath\" not found",
     "output_type": "error",
     "traceback": [
      "KeyError: key \"find_by_xpath\" not found",
      "",
      "Stacktrace:",
      " [1] getproperty(::PyObject, ::String) at C:\\Users\\user\\.julia\\packages\\PyCall\\ttONZ\\src\\PyCall.jl:308",
      " [2] getproperty at C:\\Users\\user\\.julia\\packages\\PyCall\\ttONZ\\src\\PyCall.jl:313 [inlined]",
      " [3] (::var\"#7#8\")(::PyObject) at .\\In[4]:9",
      " [4] selenium(::var\"#7#8\") at .\\In[1]:13",
      " [5] top-level scope at In[4]:2"
     ]
    }
   ],
   "source": [
    "const Select = pyimport(\"selenium.webdriver.support.ui\").Select\n",
    "\n",
    "# 動作確認用サーバで Selenium フォーム操作\n",
    "selenium() do driver\n",
    "    driver.get(\"http://localhost:8080\")\n",
    "    WebDriverWait(driver, 10).until(EC.presence_of_all_elements_located)\n",
    "    driver.find_element_by_xpath(\"//input[@name='server' and @value='nginx']\").click()\n",
    "    Select(driver.find_element_by_xpath(\"//select[@name='cache']\")).select_by_value(\"300\")\n",
    "    driver.find_element_by_xpath(\"//button[@type='submit']\").submit()\n",
    "    sleep(3)\n",
    "end"
   ]
  },
  {
   "cell_type": "code",
   "execution_count": null,
   "metadata": {},
   "outputs": [],
   "source": [
    "# ログインして無料SSL申請\n",
    "selenium() do driver\n",
    "    panel_url = sakura_login(driver, ENV[\"SAKURA_USER\"], ENV[\"SAKURA_PASSWD\"])\n",
    "    isnothing(match(r\"^https://secure\\.sakura\\.ad\\.jp/rscontrol/\", panel_url)) && return false\n",
    "    sakura_apply_lets_encrypt(driver, panel_url, \"example.com\")\n",
    "end"
   ]
  }
 ],
 "metadata": {
  "kernelspec": {
   "display_name": "Julia 1.3.1",
   "language": "julia",
   "name": "julia-1.3"
  },
  "language_info": {
   "file_extension": ".jl",
   "mimetype": "application/julia",
   "name": "julia",
   "version": "1.3.1"
  }
 },
 "nbformat": 4,
 "nbformat_minor": 4
}
